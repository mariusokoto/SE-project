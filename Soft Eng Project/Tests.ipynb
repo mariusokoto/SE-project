{
 "cells": [
  {
   "cell_type": "markdown",
   "metadata": {},
   "source": [
    "# Software Enginneering Project"
   ]
  },
  {
   "cell_type": "code",
   "execution_count": 4,
   "metadata": {},
   "outputs": [
    {
     "name": "stdout",
     "output_type": "stream",
     "text": [
      "Connection successful!\n",
      "Query Result -> ('admin',)\n"
     ]
    }
   ],
   "source": [
    "import oracledb\n",
    "\n",
    "username = \"login_user\"\n",
    "password = \"login_password\"\n",
    "dsn = \"localhost:1521/ORCLPDB1\"\n",
    "\n",
    "try:\n",
    "    connection = oracledb.connect(user=username, password=password, dsn=dsn)\n",
    "    print(\"Connection successful!\")\n",
    "except Exception as e:\n",
    "    print(\"Error:\", e)\n",
    "\n",
    "\n",
    "email='admin@school.com'\n",
    "password='hashed_password1'\n",
    "\n",
    "cursor = connection.cursor()\n",
    "query = \"\"\"\n",
    "            SELECT role FROM users \n",
    "            WHERE email = :email AND password = :password\n",
    "            \"\"\"\n",
    "\n",
    "#query=\"\"\" SELECT * FROM USERS\"\"\"\n",
    "#query=\"\"\"SELECT table_name FROM user_tables\"\"\"\n",
    "#query= \"\"\"SELECT USER FROM DUAL\"\"\"\n",
    "\n",
    "cursor.execute(query, {\"email\": email, \"password\": password})\n",
    "#cursor.execute(query)\n",
    "result = cursor.fetchone()\n",
    "print(f\"Query Result -> {result}\")\n",
    "\n",
    "\n",
    "\n",
    "\n"
   ]
  },
  {
   "cell_type": "code",
   "execution_count": 2,
   "metadata": {},
   "outputs": [
    {
     "data": {
      "text/plain": [
       "([(3,\n",
       "   'Advanced Machine Learning',\n",
       "   <oracledb.LOB at 0x13687dee0>,\n",
       "   4,\n",
       "   'Computer Science',\n",
       "   22,\n",
       "   'Tue, Thu 2:00 PM - 4:00 PM',\n",
       "   'Spring 2024',\n",
       "   30,\n",
       "   datetime.datetime(2024, 12, 13, 22, 7, 25, 374398),\n",
       "   datetime.datetime(2024, 12, 13, 22, 7, 25, 374398))],\n",
       " ['COURSE_ID',\n",
       "  'COURSE_NAME',\n",
       "  'DESCRIPTION',\n",
       "  'CREDIT_HOURS',\n",
       "  'DEPARTMENT',\n",
       "  'TEACHER_ID',\n",
       "  'SCHEDULE',\n",
       "  'SEMESTER',\n",
       "  'MAX_STUDENTS',\n",
       "  'CREATED_AT',\n",
       "  'UPDATED_AT'])"
      ]
     },
     "execution_count": 2,
     "metadata": {},
     "output_type": "execute_result"
    }
   ],
   "source": [
    "import oracledb\n",
    "import pandas as pd\n",
    "import streamlit as st\n",
    "\n",
    "\n",
    "def connect_to_db():\n",
    "    \"\"\"Connect to the Oracle database.\"\"\"\n",
    "    try:\n",
    "        connection = oracledb.connect(\n",
    "            user = \"login_user\",\n",
    "            password = \"login_password\",\n",
    "            dsn = \"localhost:1521/ORCLPDB1\"\n",
    "        )\n",
    "        \n",
    "        return connection\n",
    "    except oracledb.DatabaseError as e:\n",
    "        print(\"Database connection failed:\", e)\n",
    "        return None\n",
    "    \n",
    "\n",
    "\n",
    "def view_courses():\n",
    "    \"\"\"\n",
    "    Fetch all courses from the courses table.\n",
    "\n",
    "    Returns:\n",
    "        rows (list of tuples): A list of all course records.\n",
    "        columns (list): A list of column names corresponding to the records.\n",
    "    \"\"\"\n",
    "    connection = connect_to_db()  # Remplacez par votre fonction de connexion\n",
    "    if connection:\n",
    "        cursor = connection.cursor()\n",
    "        try:\n",
    "            query = \"\"\"\n",
    "            SELECT course_id, course_name, description, credit_hours, department,\n",
    "                   teacher_id, schedule, semester, max_students, created_at, updated_at\n",
    "            FROM courses\n",
    "            \"\"\"\n",
    "            cursor.execute(query)\n",
    "            rows = cursor.fetchall()  \n",
    "            columns = [col[0] for col in cursor.description]  \n",
    "            return rows, columns\n",
    "        except oracledb.DatabaseError as e:\n",
    "            print(f\"Failed to fetch courses: {e}\")\n",
    "            return None, None\n",
    "        finally:\n",
    "            cursor.close()  # Toujours fermer le curseur\n",
    "            connection.close()  # Toujours fermer la connexion\n",
    "    else:\n",
    "        print(\"Database connection could not be established.\")\n",
    "        return None, None\n",
    "\n",
    "\n",
    "view_courses()"
   ]
  },
  {
   "cell_type": "code",
   "execution_count": 3,
   "metadata": {},
   "outputs": [
    {
     "data": {
      "text/plain": [
       "<oracledb.Connection to login_user@localhost:1521/ORCLPDB1>"
      ]
     },
     "execution_count": 3,
     "metadata": {},
     "output_type": "execute_result"
    }
   ],
   "source": [
    "def connect_to_db():\n",
    "    \"\"\"Connect to the Oracle database.\"\"\"\n",
    "    try:\n",
    "        connection = oracledb.connect(\n",
    "            user = \"login_user\",\n",
    "            password = \"login_password\",\n",
    "            dsn = \"localhost:1521/ORCLPDB1\"\n",
    "        )\n",
    "        \n",
    "        return connection\n",
    "    except oracledb.DatabaseError as e:\n",
    "        print(\"Database connection failed:\", e)\n",
    "        return None\n",
    "    \n",
    "connect_to_db()"
   ]
  },
  {
   "cell_type": "code",
   "execution_count": 5,
   "metadata": {},
   "outputs": [
    {
     "data": {
      "text/plain": [
       "True"
      ]
     },
     "execution_count": 5,
     "metadata": {},
     "output_type": "execute_result"
    }
   ],
   "source": [
    "def add_student_to_course(student_id, course_id):\n",
    "    \"\"\"\n",
    "    Add a student to a course in the student_courses table.\n",
    "\n",
    "    Args:\n",
    "        student_id (int): The ID of the student.\n",
    "        course_id (int): The ID of the course.\n",
    "\n",
    "    Returns:\n",
    "        bool: True if the operation was successful, False otherwise.\n",
    "    \"\"\"\n",
    "    connection = connect_to_db()  # Ensure this connects to your database\n",
    "    if connection:\n",
    "        try:\n",
    "            cursor = connection.cursor()\n",
    "            query = \"\"\"\n",
    "            INSERT INTO student_courses (student_id, course_id, enrollment_date)\n",
    "            VALUES (:1, :2, CURRENT_TIMESTAMP)\n",
    "            \"\"\"\n",
    "            cursor.execute(query, [student_id, course_id])\n",
    "            connection.commit()\n",
    "            cursor.close()\n",
    "            connection.close()\n",
    "            return True\n",
    "        except oracledb.DatabaseError as e:\n",
    "            print(f\"Failed to add student {student_id} to course {course_id}: {e}\")\n",
    "            return False\n",
    "    else:\n",
    "        print(\"Database connection could not be established.\")\n",
    "        return False\n",
    "\n",
    "\n",
    "add_student_to_course(1,2)"
   ]
  },
  {
   "cell_type": "code",
   "execution_count": 2,
   "metadata": {},
   "outputs": [],
   "source": [
    "\n",
    "class DatabaseConnection:\n",
    "    _instance = None  # Static variable to hold the single instance\n",
    "\n",
    "    @staticmethod\n",
    "    def get_connection():\n",
    "        \"\"\"Static access method to get the database connection.\"\"\"\n",
    "        try:\n",
    "            # Check if the connection exists and is still open\n",
    "            if DatabaseConnection._instance is None or DatabaseConnection._instance.ping() is not None:\n",
    "                # Create or reconnect the instance\n",
    "                DatabaseConnection._instance = oracledb.connect(\n",
    "                    user=\"login_user\",\n",
    "                    password=\"login_password\",\n",
    "                    dsn=\"localhost:1521/ORCLPDB1\"\n",
    "                )\n",
    "        except oracledb.DatabaseError as e:\n",
    "            print(\"Database connection failed:\", e)\n",
    "            DatabaseConnection._instance = None\n",
    "        return DatabaseConnection._instance\n",
    "\n",
    "    @staticmethod\n",
    "    def close_connection():\n",
    "        \"\"\"Close the database connection.\"\"\"\n",
    "        if DatabaseConnection._instance is not None:\n",
    "            try:\n",
    "                DatabaseConnection._instance.close()\n",
    "                DatabaseConnection._instance = None\n",
    "                print(\"Database connection closed successfully.\")\n",
    "            except oracledb.DatabaseError as e:\n",
    "                print(\"Failed to close the database connection:\", e)"
   ]
  },
  {
   "cell_type": "code",
   "execution_count": 7,
   "metadata": {},
   "outputs": [
    {
     "name": "stdout",
     "output_type": "stream",
     "text": [
      "<oracledb.Connection to login_user@localhost:1521/ORCLPDB1>\n"
     ]
    }
   ],
   "source": [
    "print(DatabaseConnection.get_connection())"
   ]
  },
  {
   "cell_type": "code",
   "execution_count": 5,
   "metadata": {},
   "outputs": [
    {
     "data": {
      "text/plain": [
       "[{'course_id': 3,\n",
       "  'course_name': 'english',\n",
       "  'description': 'e',\n",
       "  'credit_hours': 5,\n",
       "  'department': 'e',\n",
       "  'day_of_week': 'Wednesday',\n",
       "  'start_time': datetime.datetime(2024, 12, 14, 12, 14),\n",
       "  'end_time': datetime.datetime(2024, 12, 14, 18, 0),\n",
       "  'semester': '2'},\n",
       " {'course_id': 4,\n",
       "  'course_name': 'fr',\n",
       "  'description': 'z',\n",
       "  'credit_hours': 1,\n",
       "  'department': 'd',\n",
       "  'day_of_week': 'Monday',\n",
       "  'start_time': datetime.datetime(2024, 12, 14, 5, 45),\n",
       "  'end_time': datetime.datetime(2024, 12, 14, 6, 45),\n",
       "  'semester': '3'},\n",
       " {'course_id': 5,\n",
       "  'course_name': 'info',\n",
       "  'description': 'info',\n",
       "  'credit_hours': 1,\n",
       "  'department': 'info',\n",
       "  'day_of_week': 'Monday',\n",
       "  'start_time': datetime.datetime(2024, 12, 14, 14, 13),\n",
       "  'end_time': datetime.datetime(2024, 12, 14, 15, 15),\n",
       "  'semester': '2'},\n",
       " {'course_id': 2,\n",
       "  'course_name': 'physics',\n",
       "  'description': 'p',\n",
       "  'credit_hours': 3,\n",
       "  'department': 'phys',\n",
       "  'day_of_week': 'Tuesday',\n",
       "  'start_time': datetime.datetime(2024, 12, 14, 15, 0),\n",
       "  'end_time': datetime.datetime(2024, 12, 14, 18, 0),\n",
       "  'semester': '2'},\n",
       " {'course_id': 1,\n",
       "  'course_name': 'maths',\n",
       "  'description': 'jon',\n",
       "  'credit_hours': 2,\n",
       "  'department': 'maths',\n",
       "  'day_of_week': 'Monday',\n",
       "  'start_time': datetime.datetime(2024, 12, 14, 11, 33),\n",
       "  'end_time': datetime.datetime(2024, 12, 14, 18, 45),\n",
       "  'semester': 'spring'}]"
      ]
     },
     "execution_count": 5,
     "metadata": {},
     "output_type": "execute_result"
    }
   ],
   "source": [
    "def get_courses_by_teacher_id(teacher_id):\n",
    "    \"\"\"\n",
    "    Retrieve all courses taught by the teacher with the given teacher_id.\n",
    "    \"\"\"\n",
    "    connection = DatabaseConnection.get_connection()\n",
    "    if not connection:\n",
    "        print(\"Database connection is not established.\")\n",
    "        return None\n",
    "\n",
    "    try:\n",
    "        with connection.cursor() as cursor:\n",
    "            # Define the query\n",
    "            query = \"\"\"\n",
    "                SELECT \n",
    "                    course_id, course_name, description, credit_hours, department, \n",
    "                    day_of_week, start_time, end_time, semester\n",
    "                FROM courses\n",
    "                WHERE teacher_id = :teacher_id\n",
    "            \"\"\"\n",
    "            # Execute the query\n",
    "            cursor.execute(query, {\"teacher_id\": teacher_id})\n",
    "\n",
    "            # Fetch all results\n",
    "            rows = cursor.fetchall()\n",
    "\n",
    "            # If no results are found, return an empty list\n",
    "            if not rows:\n",
    "                return []\n",
    "\n",
    "            # Map the results to a list of dictionaries\n",
    "            courses = []\n",
    "            for row in rows:\n",
    "                courses.append({\n",
    "                    \"course_id\": row[0],\n",
    "                    \"course_name\": row[1],\n",
    "                    \"description\": row[2].read() if row[2] else None,\n",
    "                    \"credit_hours\": row[3],\n",
    "                    \"department\": row[4],\n",
    "                    \"day_of_week\": row[5],\n",
    "                    \"start_time\": row[6],\n",
    "                    \"end_time\": row[7],\n",
    "                    \"semester\": row[8],\n",
    "                })\n",
    "            return courses\n",
    "\n",
    "    except oracledb.Error as e:\n",
    "        print(\"Error retrieving courses:\", e)\n",
    "        return None\n",
    "\n",
    "get_courses_by_teacher_id(22)"
   ]
  },
  {
   "cell_type": "code",
   "execution_count": 7,
   "metadata": {},
   "outputs": [
    {
     "name": "stdout",
     "output_type": "stream",
     "text": [
      "22\n"
     ]
    }
   ],
   "source": [
    "def get_teacher_id_by_user_id(user_id):\n",
    "    \"\"\"\n",
    "    Retrieve the teacher_id associated with the given user_id from the database.\n",
    "    \"\"\"\n",
    "    connection = DatabaseConnection.get_connection()\n",
    "    if not connection:\n",
    "        print(\"Database connection is not established.\")\n",
    "        return None\n",
    "\n",
    "    try:\n",
    "        with connection.cursor() as cursor:\n",
    "            # Define the query\n",
    "            query = \"\"\"\n",
    "                SELECT teacher_id\n",
    "                FROM teachers\n",
    "                WHERE user_id = :user_id\n",
    "            \"\"\"\n",
    "            # Execute the query\n",
    "            cursor.execute(query, {\"user_id\": user_id})\n",
    "\n",
    "            # Fetch the result\n",
    "            row = cursor.fetchone()\n",
    "\n",
    "            # If no result is found, return None\n",
    "            if not row:\n",
    "                return None\n",
    "\n",
    "            # Return the teacher_id\n",
    "            return row[0]\n",
    "\n",
    "    except oracledb.Error as e:\n",
    "        print(\"Error retrieving teacher_id:\", e)\n",
    "        return None\n",
    "\n",
    "\n",
    "\n",
    "print(get_teacher_id_by_user_id(40))"
   ]
  }
 ],
 "metadata": {
  "kernelspec": {
   "display_name": "base",
   "language": "python",
   "name": "python3"
  },
  "language_info": {
   "codemirror_mode": {
    "name": "ipython",
    "version": 3
   },
   "file_extension": ".py",
   "mimetype": "text/x-python",
   "name": "python",
   "nbconvert_exporter": "python",
   "pygments_lexer": "ipython3",
   "version": "3.12.4"
  }
 },
 "nbformat": 4,
 "nbformat_minor": 2
}
